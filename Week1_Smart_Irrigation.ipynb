{
 "cells": [
  {
   "cell_type": "markdown",
   "id": "b1eeb4b8",
   "metadata": {},
   "source": [
    "# Smart Irrigation – Week 1\n",
    "\n",
    "**Name:** Keerthi Bandari  \n",
    "**Project Title:** Smart Irrigation System  \n",
    "**Week:** 1  \n",
    "**Date:** 16 July 2025\n",
    "\n",
    "## Overview:\n",
    "This week I worked on setting up my environment and learning basic concepts related to the Smart Irrigation project. As I was unable to attend the session, I tried to simulate basic sensor data using Python. This will help in understanding how temperature and soil moisture data can be used in irrigation automation.\n"
   ]
  },
  {
   "cell_type": "code",
   "execution_count": 2,
   "id": "de13c322",
   "metadata": {},
   "outputs": [
    {
     "name": "stdout",
     "output_type": "stream",
     "text": [
      "Temperature: 32.23°C\n",
      "Soil Moisture: 3.87%\n"
     ]
    }
   ],
   "source": [
    "# Generating random values for temperature and moisture sensors\n",
    "\n",
    "import random\n",
    "\n",
    "def read_sensors():\n",
    "    temperature = random.uniform(20, 40)  # in Celsius\n",
    "    moisture = random.uniform(0, 100)     # percentage\n",
    "    return temperature, moisture\n",
    "\n",
    "temp, moist = read_sensors()\n",
    "print(f\"Temperature: {temp:.2f}°C\")\n",
    "print(f\"Soil Moisture: {moist:.2f}%\")\n",
    "\n"
   ]
  }
 ],
 "metadata": {
  "kernelspec": {
   "display_name": "Python 3",
   "language": "python",
   "name": "python3"
  },
  "language_info": {
   "codemirror_mode": {
    "name": "ipython",
    "version": 3
   },
   "file_extension": ".py",
   "mimetype": "text/x-python",
   "name": "python",
   "nbconvert_exporter": "python",
   "pygments_lexer": "ipython3",
   "version": "3.13.3"
  }
 },
 "nbformat": 4,
 "nbformat_minor": 5
}
