{
 "cells": [
  {
   "cell_type": "markdown",
   "id": "b1eeb4b8",
   "metadata": {},
   "source": [
    "# Smart Irrigation – Week 1\n",
    "\n",
    "**Name:** Keerthi Bandari  \n",
    "**Internship ID:** INTERNSHIP_1748923002683e727a876ea  \n",
    "**Date:** 16 July 2025"
   ]
  },
  {
   "cell_type": "code",
   "execution_count": 5,
   "id": "de13c322",
   "metadata": {},
   "outputs": [
    {
     "name": "stdout",
     "output_type": "stream",
     "text": [
      "Sample data:\n",
      "   temperature  moisture  irrigation\n",
      "0         28.5        65           1\n",
      "1         31.0        45           1\n",
      "2         22.3        80           0\n",
      "3         35.6        30           1\n",
      "4         25.1        72           0\n"
     ]
    }
   ],
   "source": [
    "# Importing required libraries\n",
    "import pandas as pd\n",
    "import matplotlib.pyplot as plt\n",
    "# import seaborn as sns  # Temporarily removed due to compatibility issue\n",
    "\n",
    "from sklearn.model_selection import train_test_split\n",
    "from sklearn.ensemble import RandomForestClassifier\n",
    "from sklearn.metrics import accuracy_score\n",
    "\n",
    "# Load dataset (replace with actual path if you have the CSV)\n",
    "try:\n",
    "    df = pd.read_csv(\"irrigation_machine.csv\")\n",
    "    print(\"Sample data:\")\n",
    "    print(df.head())\n",
    "except FileNotFoundError:\n",
    "    print(\"Dataset not found. Please place 'irrigation_machine.csv' in the same folder.\")\n",
    "\n",
    "\n"
   ]
  }
 ],
 "metadata": {
  "kernelspec": {
   "display_name": "Python 3",
   "language": "python",
   "name": "python3"
  },
  "language_info": {
   "codemirror_mode": {
    "name": "ipython",
    "version": 3
   },
   "file_extension": ".py",
   "mimetype": "text/x-python",
   "name": "python",
   "nbconvert_exporter": "python",
   "pygments_lexer": "ipython3",
   "version": "3.13.3"
  }
 },
 "nbformat": 4,
 "nbformat_minor": 5
}
